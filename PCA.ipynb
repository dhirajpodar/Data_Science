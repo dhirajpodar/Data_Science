{
 "cells": [
  {
   "cell_type": "code",
   "execution_count": 1,
   "metadata": {},
   "outputs": [],
   "source": [
    "import numpy as np\n",
    "import pandas as pd\n",
    "import matplotlib.pyplot as plt\n"
   ]
  },
  {
   "cell_type": "code",
   "execution_count": 75,
   "metadata": {},
   "outputs": [
    {
     "data": {
      "text/plain": [
       "<matplotlib.collections.PathCollection at 0x7f96d9321a00>"
      ]
     },
     "execution_count": 75,
     "metadata": {},
     "output_type": "execute_result"
    },
    {
     "data": {
      "image/png": "[encoded data removed]",
      "text/plain": [
       "<Figure size 432x288 with 1 Axes>"
      ]
     },
     "metadata": {
      "needs_background": "light"
     },
     "output_type": "display_data"
    }
   ],
   "source": [
    "\n",
    "np.random.seed(1)\n",
    "x1 = np.random.normal(3.0,2.0,10)\n",
    "x2 = np.random.normal(1.0,3.0,10)\n",
    "plt.scatter(x,y)\n",
    "\n",
    "\n"
   ]
  },
  {
   "cell_type": "code",
   "execution_count": 43,
   "metadata": {},
   "outputs": [
    {
     "data": {
      "text/plain": [
       "<matplotlib.collections.PathCollection at 0x7f96b8c492e0>"
      ]
     },
     "execution_count": 43,
     "metadata": {},
     "output_type": "execute_result"
    },
    {
     "data": {
      "image/png": "[encoded data removed]",
      "text/plain": [
       "<Figure size 432x288 with 1 Axes>"
      ]
     },
     "metadata": {
      "needs_background": "light"
     },
     "output_type": "display_data"
    }
   ],
   "source": [
    "x1_mean = np.mean(x1)\n",
    "x2_mean = np.mean(x2)\n",
    "y1 = [xi - x1_mean for xi in x1]\n",
    "y2 = [xi - x2_mean for xi in x2]\n",
    "\n",
    "plt.scatter(y1,y2)"
   ]
  },
  {
   "cell_type": "code",
   "execution_count": 62,
   "metadata": {},
   "outputs": [
    {
     "name": "stdout",
     "output_type": "stream",
     "text": [
      "EigenValue1 = 2.3638861240817546\n",
      "EigenValue2 = 12.293595083608974\n",
      "EigenVector1 = [-0.81654787 -0.57727773]\n",
      "EigenVector2 = [ 0.57727773 -0.81654787]\n",
      "variance1 = 16.127505746631503\n",
      "variance2 = 83.87249425336849\n"
     ]
    }
   ],
   "source": [
    "from numpy.linalg import eig\n",
    "\n",
    "data  = np.array([y1,y2])\n",
    "covMatrix = np.cov(data,bias=True)\n",
    "\n",
    "eigenValue,eigenVector = eig(covMatrix)\n",
    "\n",
    "print('EigenValue1 = ' + str(eigenValue[0]))\n",
    "print('EigenValue2 = ' + str(eigenValue[1]))\n",
    "\n",
    "print('EigenVector1 = ' + str(eigenVector[0]))\n",
    "print('EigenVector2 = ' + str(eigenVector[1]))\n",
    "\n",
    "eigenVariance1 = eigenValue[0]/(sum(eigenValue))\n",
    "print('variance1 = ' + str(eigenVariance1*100))\n",
    "\n",
    "eigenVariance2 = eigenValue[1]/(sum(eigenValue))\n",
    "print('variance2 = ' + str(eigenVariance2*100))\n",
    "\n"
   ]
  }
 ],
 "metadata": {
  "interpreter": {
   "hash": "f0624026c2376f2bed447fd3ff5c3fe6e220a47553fb9e76847f45331cc7c875"
  },
  "kernelspec": {
   "display_name": "Python 3.8.12 64-bit ('dhiraj': conda)",
   "name": "python3"
  },
  "language_info": {
   "codemirror_mode": {
    "name": "ipython",
    "version": 3
   },
   "file_extension": ".py",
   "mimetype": "text/x-python",
   "name": "python",
   "nbconvert_exporter": "python",
   "pygments_lexer": "ipython3",
   "version": "3.8.12"
  },
  "orig_nbformat": 4
 },
 "nbformat": 4,
 "nbformat_minor": 2
}
